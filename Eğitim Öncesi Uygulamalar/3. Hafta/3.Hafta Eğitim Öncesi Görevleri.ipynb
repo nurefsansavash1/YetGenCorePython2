{
  "cells": [
    {
      "cell_type": "markdown",
      "metadata": {
        "id": "tsD4YVAe_Te2"
      },
      "source": [
        "# Problem 1\n",
        "Bir sayının 7'ye bölünebilir olup olmadığını kontrol etmek \n",
        "için bir program yazın.\n",
        "\n",
        "İpucu: Mod operatörünü (%) kullanabilirsiniz."
      ]
    },
    {
      "cell_type": "code",
      "execution_count": 5,
      "metadata": {
        "id": "NGjvNwKx_Te7"
      },
      "outputs": [
        {
          "name": "stdout",
          "output_type": "stream",
          "text": [
            "bu sayı 7 ye bölünmez.\n"
          ]
        }
      ],
      "source": [
        "sayı = int(input(\"Lütfen sayı giriniz: \"))\n",
        "if sayı % 7 == 0 : \n",
        "    print(f\"{sayı} 7 ye bölünebilir.\")\n",
        "else :\n",
        "    print(\"bu sayı 7 ye bölünmez.\")"
      ]
    },
    {
      "cell_type": "markdown",
      "metadata": {
        "id": "Kg3qiBAI_Te8"
      },
      "source": [
        "# Problem 2\n",
        "Kullanıcıdan vize ve final notu isteyin. Girilen vize notunun %40’ı ve \n",
        "girilen finalnotunun ise %60’ı alınarak yıl sonu not ortalaması hesaplanacaktır. \n",
        "\n",
        "Bu not ortalaması eğer 85 ve üzeri ise AA, \n",
        "\n",
        "75 ve 85 arasında ise BA, \n",
        "\n",
        "70 ve 75 arasında ise BB, \n",
        "\n",
        "65 ve 70 arasında ise CB,\n",
        "\n",
        "60 ve 65 arasında ise CC,\n",
        "\n",
        "55 ve 60 arasında ise DC,\n",
        "\n",
        "50 ve 55 arasında ise DD olarak hesaplanacaktır. \n",
        "\n",
        "Bu öğrencinin yıl sonu toplam notu 50’nin altında ise FF ile dersten kalacaktır. \n",
        "\n",
        "Ayrıca öğrencinin final notu 50’nin altında ise direkt FF ile kalacaktır."
      ]
    },
    {
      "cell_type": "code",
      "execution_count": 3,
      "metadata": {
        "id": "MXTtCxI1_Te8"
      },
      "outputs": [
        {
          "name": "stdout",
          "output_type": "stream",
          "text": [
            "Not ortalamanız DC\n"
          ]
        }
      ],
      "source": [
        "vize = int(input(\"Vize notunuz giriniz: \"))\n",
        "final = int(input(\"Final notunu giriniz: \"))\n",
        "\n",
        "x= ((vize * 0.4) + (final * 0.6))\n",
        " \n",
        "if final<50 :\n",
        "    print (\"Final notu 50'nin altında (FF) olduğu için kaldınız.\")\n",
        "elif x>=85 and x<100 :\n",
        "    print(\"Not ortalamanız AA\")\n",
        "elif x>=75 and x<85 :\n",
        "    print(\"Not ortalamanız BA\")\n",
        "elif x>=70 and x<75 :\n",
        "    print(\"Not ortalamanız BB\")\n",
        "elif x>=65 and x<70 :\n",
        "    print(\"Not ortalamanız CB\")\n",
        "elif x>=60 and x<65 :\n",
        "    print(\"Not ortalamanız CC\")\n",
        "elif x>=55 and x<60 :\n",
        "    print(\"Not ortalamanız DC\")\n",
        "elif x>=50 and x<55 :\n",
        "    print(\"Not ortalamanız DD\")\n",
        "elif x>=0 and x<50 :\n",
        "    print(\"Not ortalamanız FF\")\n",
        "    print(\"Dersten kaldınız.\")\n",
        "else :\n",
        "    print(\"yanlış ders notu girdiniz tekrar giriniz\")"
      ]
    },
    {
      "cell_type": "markdown",
      "metadata": {
        "id": "tAoRYCTC_Te8"
      },
      "source": [
        "# Problem 3\n",
        "İki YetGenli Zirve'de karşılaşıyorlar. Birbirlerini tanımak için sorular soruyorlar. Birbirlerine yaşlarını soruyorlar. Akıllarına bir Python programı yazıp, yaşlarını ve isimlerini giriyorlar. Büyük olanın yaşını ekrana yazdıran programı yazıyorlar. Sende bu iki YetGenli'ye destek olmak ister misin?\n",
        "\n",
        "```\n",
        "Birinci YetGenlinin ismi: Ahmet\n",
        "Birinci YetGenlinin yaşı : 20\n",
        "İkinci YetGenlinin ismi: Mehmet\n",
        "İkinci YetGenlinin yaşı : 25\n",
        "Mehmet'in yaşı daha büyük ve yaşı 25'tir.\n",
        "```"
      ]
    },
    {
      "cell_type": "code",
      "execution_count": 66,
      "metadata": {
        "id": "bPjE8W0i_Te8"
      },
      "outputs": [
        {
          "name": "stdout",
          "output_type": "stream",
          "text": [
            "mhmet ahmet'dan daha büyük.\n"
          ]
        }
      ],
      "source": [
        "\n",
        "isim1 = input(\"Lütfen ilk kişinin adını girin: \")\n",
        "yas1 = int(input(\"Lütfen ilk kişinin yaşını girin: \"))\n",
        "\n",
        "\n",
        "isim2 = input(\"Lütfen ikinci kişinin adını girin: \")\n",
        "yas2 = int(input(\"Lütfen ikinci kişinin yaşını girin: \"))\n",
        "\n",
        "if yas1 > yas2:\n",
        "    print(f\"{isim1} {isim2}'dan daha büyük.\")\n",
        "elif yas2 > yas1:\n",
        "    print(f\"{isim2} {isim1}'dan daha büyük.\")\n",
        "else:\n",
        "    print(\"İki kişinin yaşı da eşit.\")\n"
      ]
    },
    {
      "cell_type": "markdown",
      "metadata": {
        "id": "zBVv8Tyg_Te9"
      },
      "source": [
        "# Problem 4\n",
        "Pandemi döneminde AVM'lerde ateş ölçümü yapılıyor. AVM'ye giren kişinin ateş ölçümü 37.5 derecenin altında ise girişe izin veriliyor. 37.5 derecenin üstünde ise girişe izin verilmiyor. AVM'ye girişe izin verilip verilmediğini ekrana yazdıran bir program yazın.\n",
        "\n",
        "Program sonunda şöyle bir çıktı elde etmelisiniz:\n",
        "\n",
        "```\n",
        "Ateşiniz 37.5 derece. AVM'ye girebilirsin! Maske takmayı unutma!\n",
        "Ateşiniz 37.6 derece. AVM'ye giremezsin! Hemen evine dön!\n",
        "```"
      ]
    },
    {
      "cell_type": "code",
      "execution_count": 46,
      "metadata": {
        "id": "TSAXs8et_Te9"
      },
      "outputs": [
        {
          "name": "stdout",
          "output_type": "stream",
          "text": [
            "Ateşiniz 35.0 derece. AVM' ye girebilirsin! Maske takmayı unutma! \n"
          ]
        }
      ],
      "source": [
        "derece= float(input(\"Dereceni gir: \"))\n",
        "if derece > 37.5 :\n",
        "    print(f\"Ateşiniz {derece} derece. AVM' ye giremezsin! Hemen evine dön!\")\n",
        "else : \n",
        "     print(f\"Ateşiniz {derece} derece. AVM' ye girebilirsin! Maske takmayı unutma! \")\n"
      ]
    },
    {
      "cell_type": "markdown",
      "metadata": {
        "id": "6AEkZrDt_Te9"
      },
      "source": [
        "# Problem 5\n",
        "YetGen bir spor kulübüyle sponsorluk anlaşması yapıyor. Kulüp, sponsorluk anlaşmasına göre her YetGen liderinin beden kitle indeksini hesaplamak istiyor. Spor kulübü, beden kitle indeksini hesaplamak için YetGen Jump Python liderlerinden Berkcan ve Ahmet'i arıyor. Berkcan ve Ahmet, kulübe yardımcı olmak için bir Python programı yazıyorlar. Sende bu iki YetGen liderine destek olmak ister misin?\n",
        "\n",
        "Kullanıcıdan alınan boy ve kilo değerlerine göre beden kitle indeksini hesaplayın ve şu kurallara göre ekrana şu yazıları yazdırın.\n",
        "\n",
        "\n",
        "Beden Kitle İndeksi, kişinin ağırlığının (kg olarak) boyunun karesine (m olarak) bölünmesiyle hesaplanır.\n",
        "\n",
        "\n",
        "```\n",
        " BKİ 18.5'un altındaysa -------> Zayıf\n",
        "\n",
        " BKİ 18.5 ile 25 arasındaysa ------> Normal\n",
        "\n",
        " BKİ 25 ile 30 arasındaysa --------> Fazla Kilolu\n",
        "\n",
        " BKİ 30'un üstündeyse -------------> Obez\n",
        "```\n",
        "\n"
      ]
    },
    {
      "cell_type": "code",
      "execution_count": 58,
      "metadata": {
        "id": "t-XPI_u0_Te-"
      },
      "outputs": [
        {
          "name": "stdout",
          "output_type": "stream",
          "text": [
            "BKİ 26.122448979591837 tir. Fazla Kilolu.\n"
          ]
        }
      ],
      "source": [
        "boy= float(input(\"Boyunuzu giriniz: \"))\n",
        "kilo= int(input(\"Kilonuzu giriniz: \"))\n",
        "BKİ = (kilo / (boy * boy))\n",
        "\n",
        "if BKİ < 18.5 :\n",
        "    print(f\"BKİ {BKİ} tir. Zayıf.\")\n",
        "elif  BKİ > 18.5 and BKİ < 25 :\n",
        "    print(f\"BKİ {BKİ} tir. Normal.\")\n",
        "elif BKİ > 25 and BKİ < 30 : \n",
        "    print(f\"BKİ {BKİ} tir. Fazla Kilolu.\")\n",
        "else :\n",
        "    print(f\"BKİ {BKİ} tir. Obez.\")\n"
      ]
    },
    {
      "cell_type": "markdown",
      "metadata": {
        "id": "oFsvQyaO_Te-"
      },
      "source": [
        "# Problem 6\n",
        "Kullanıcıdan isim, yaş ve eğitim bilgilerini isteyip ehliyet alabilme  durumunu kontrol ediniz. \n",
        "\n",
        "Ehliyet alma koşulu en az 18 yaşında ve eğitim durumu lise ya da üniversite olmalıdır. "
      ]
    },
    {
      "cell_type": "code",
      "execution_count": 65,
      "metadata": {
        "id": "Tu2mcgco_Te-"
      },
      "outputs": [
        {
          "name": "stdout",
          "output_type": "stream",
          "text": [
            "ehliyet alabilirsin\n"
          ]
        }
      ],
      "source": [
        "isim= input(\"Adınızı giriniz: \")\n",
        "yas= int(input(\"Yaşınızı giriniz: \"))\n",
        "egitimBilgisi= input(\"Eğitim bilgilerini giriniz: \")\n",
        "if yas >= 18 and egitimBilgisi == \"lise\" or egitimBilgisi == \"üniversite\":\n",
        "    print(\"ehliyet alabilirsin\")\n",
        "else:\n",
        "    print(\"ehliyet alamazsın\")"
      ]
    },
    {
      "cell_type": "markdown",
      "metadata": {
        "id": "eUkxVSAE_Te_"
      },
      "source": [
        "# Problem 7\n",
        "Bir yılın artık yıl olup olmadığını kontrol etmek için bir program yazın. \n",
        "Artık yıl kuralı:\n",
        "\n",
        "a) Eğer yılın son iki basamağı (00) ile bitmiyor ve yalnızca 4'e tam bölünüyorsa artık yıldır. Ya da, \n",
        "\n",
        "b) Eğer yıl 400'e tam bölünüyorsa artık yıldır.\n",
        "\n",
        "**Örneğin**\n",
        "```\n",
        "2017 artık yıl değildir.\n",
        "1900 artık yıl değildir\n",
        "2012 artık yıldır.\n",
        "2000 artık yıldır.\n",
        "```"
      ]
    },
    {
      "cell_type": "code",
      "execution_count": 2,
      "metadata": {
        "id": "4uWh8qUL_Te_"
      },
      "outputs": [
        {
          "name": "stdout",
          "output_type": "stream",
          "text": [
            "2022 yılı artık yıl değildir.\n"
          ]
        }
      ],
      "source": [
        "yıl= int(input(\"Yılı giriniz:\"))\n",
        "\n",
        "if yıl % 4 == 0 and yıl % 100 != 0: \n",
        "    print(f\"{yıl} yılı artık yıldır.\")\n",
        "elif yıl % 400 == 0 :\n",
        "    print(f\"{yıl} yılı artık yıldır.\")\n",
        "else:\n",
        "    print(f\"{yıl} yılı artık yıl değildir.\")\n"
      ]
    }
  ],
  "metadata": {
    "colab": {
      "provenance": []
    },
    "kernelspec": {
      "display_name": "Python 3.10.5 64-bit",
      "language": "python",
      "name": "python3"
    },
    "language_info": {
      "codemirror_mode": {
        "name": "ipython",
        "version": 3
      },
      "file_extension": ".py",
      "mimetype": "text/x-python",
      "name": "python",
      "nbconvert_exporter": "python",
      "pygments_lexer": "ipython3",
      "version": "3.11.1"
    },
    "orig_nbformat": 4,
    "vscode": {
      "interpreter": {
        "hash": "5026d2d6e7aaaaba093def813beadff083d8733e4a511af01735cbabd156995d"
      }
    }
  },
  "nbformat": 4,
  "nbformat_minor": 0
}
