{
 "cells": [
  {
   "attachments": {},
   "cell_type": "markdown",
   "metadata": {},
   "source": [
    "# Problem 1 "
   ]
  },
  {
   "cell_type": "code",
   "execution_count": 1,
   "metadata": {},
   "outputs": [
    {
     "ename": "ModuleNotFoundError",
     "evalue": "No module named 'numpy'",
     "output_type": "error",
     "traceback": [
      "\u001b[1;31m---------------------------------------------------------------------------\u001b[0m",
      "\u001b[1;31mModuleNotFoundError\u001b[0m                       Traceback (most recent call last)",
      "Cell \u001b[1;32mIn[1], line 1\u001b[0m\n\u001b[1;32m----> 1\u001b[0m \u001b[39mimport\u001b[39;00m \u001b[39mnumpy\u001b[39;00m \u001b[39mas\u001b[39;00m \u001b[39mnp\u001b[39;00m\n\u001b[0;32m      3\u001b[0m \u001b[39m# 5 elemanlı bir numpy array oluşturma\u001b[39;00m\n\u001b[0;32m      4\u001b[0m arr \u001b[39m=\u001b[39m np\u001b[39m.\u001b[39marray([\u001b[39m5\u001b[39m, \u001b[39m3\u001b[39m, \u001b[39m1\u001b[39m, \u001b[39m4\u001b[39m, \u001b[39m2\u001b[39m])\n",
      "\u001b[1;31mModuleNotFoundError\u001b[0m: No module named 'numpy'"
     ]
    }
   ],
   "source": [
    "import numpy as np\n",
    "\n",
    "# 5 elemanlı bir numpy array oluşturma\n",
    "arr = np.array([5, 3, 1, 4, 2])\n",
    "\n",
    "# Array'i küçükten büyüğe sıralama\n",
    "arr.sort()\n",
    "\n",
    "print(arr)  # [1 2 3 4 5]\n"
   ]
  },
  {
   "attachments": {},
   "cell_type": "markdown",
   "metadata": {},
   "source": [
    "# Problem 2"
   ]
  },
  {
   "cell_type": "code",
   "execution_count": 4,
   "metadata": {},
   "outputs": [
    {
     "ename": "ModuleNotFoundError",
     "evalue": "No module named 'numpy'",
     "output_type": "error",
     "traceback": [
      "\u001b[1;31m---------------------------------------------------------------------------\u001b[0m",
      "\u001b[1;31mModuleNotFoundError\u001b[0m                       Traceback (most recent call last)",
      "Cell \u001b[1;32mIn[4], line 1\u001b[0m\n\u001b[1;32m----> 1\u001b[0m \u001b[39mimport\u001b[39;00m \u001b[39mnumpy\u001b[39;00m\n\u001b[0;32m      3\u001b[0m \u001b[39m# 1\u001b[39;00m\n\u001b[0;32m      4\u001b[0m arr1 \u001b[39m=\u001b[39m numpy\u001b[39m.\u001b[39marray([\u001b[39m10\u001b[39m, \u001b[39m15\u001b[39m, \u001b[39m30\u001b[39m, \u001b[39m45\u001b[39m, \u001b[39m60\u001b[39m])\n",
      "\u001b[1;31mModuleNotFoundError\u001b[0m: No module named 'numpy'"
     ]
    }
   ],
   "source": [
    "import numpy\n",
    "\n",
    "# 1\n",
    "arr1 = numpy.array([10, 15, 30, 45, 60])\n",
    "\n",
    "# 2\n",
    "arr2 = numpy.arange(5, 16)\n",
    "\n",
    "# 3\n",
    "arr3 = numpy.arange(50, 101, 5)\n",
    "\n",
    "# 4\n",
    "arr4 = numpy.zeros(10)\n",
    "\n",
    "# 5\n",
    "arr5 = numpy.ones(10)\n",
    "\n",
    "# 6\n",
    "arr6 = numpy.linspace(0, 100, 5)\n",
    "\n",
    "# 7\n",
    "arr7 = numpy.random.randint(10, 31, size=5)\n",
    "\n",
    "# 8\n",
    "arr8 = numpy.random.uniform(-1, 1, size=10)\n",
    "\n",
    "# 9\n",
    "arr9 = numpy.random.randint(10, 51, size=(3, 5))\n",
    "\n",
    "# 10\n",
    "row_sum = numpy.sum(arr9, axis=1)\n",
    "col_sum = numpy.sum(arr9, axis=0)\n",
    "print(\"Satır toplamları:\", row_sum)\n",
    "print(\"Sütun toplamları:\", col_sum)\n",
    "\n",
    "# 11\n",
    "print(\"En büyük değer:\", numpy.max(arr9))\n",
    "print(\"En küçük değer:\", numpy.min(arr9))\n",
    "print(\"Ortalama değer:\", numpy.mean(arr9))\n",
    "\n",
    "# 12\n",
    "max_index = numpy.argmax(arr9)\n",
    "print(\"En büyük değerin indeksi:\", max_index)\n",
    "\n",
    "# 13\n",
    "arr13 = numpy.arange(10, 21)[:3]\n",
    "\n",
    "# 14\n",
    "arr14 = numpy.flip(arr9)\n",
    "\n",
    "# 15\n",
    "first_row = arr9[0]\n",
    "\n",
    "# 16\n",
    "value_2_3 = arr9[1, 2]\n",
    "\n",
    "# 17\n",
    "first_col = arr9[:, 0]\n",
    "\n",
    "# 18\n",
    "arr9_squared = arr9 ** 2\n",
    "\n",
    "# 19\n",
    "positive_even_nums = arr9[(arr9 > 0) & (arr9 % 2 == 0)]\n",
    "print(\"Pozitif çift sayılar:\", positive_even_nums)\n"
   ]
  }
 ],
 "metadata": {
  "kernelspec": {
   "display_name": "Python 3",
   "language": "python",
   "name": "python3"
  },
  "language_info": {
   "codemirror_mode": {
    "name": "ipython",
    "version": 3
   },
   "file_extension": ".py",
   "mimetype": "text/x-python",
   "name": "python",
   "nbconvert_exporter": "python",
   "pygments_lexer": "ipython3",
   "version": "3.11.3"
  },
  "orig_nbformat": 4,
  "vscode": {
   "interpreter": {
    "hash": "5026d2d6e7aaaaba093def813beadff083d8733e4a511af01735cbabd156995d"
   }
  }
 },
 "nbformat": 4,
 "nbformat_minor": 2
}
