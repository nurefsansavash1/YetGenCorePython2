{
 "cells": [
  {
   "cell_type": "markdown",
   "metadata": {},
   "source": [
    "# Problem 1\n",
    "`ogrenciler` adında bir sözlük oluşturunuz. Kullanıcıdan döngü yardımıyla 3 öğrenci için veri girmesini isteyerek öğrencilerin sırasıyla okul numarası, isim, soy isim, telefon numarası ve doğum tarihi bilgilerini alınız. Aldığınız öğrenci bilgilerini yine aynı döngü yardımıyla `ogrenciler` adındaki sözlükte saklayınız. Daha sonra öğrenci bilgilerinin bulunduğu sözlük yapısını ekrana bastırınız.\n",
    "\n"
   ]
  },
  {
   "cell_type": "code",
   "execution_count": 1,
   "metadata": {},
   "outputs": [
    {
     "name": "stdout",
     "output_type": "stream",
     "text": [
      "{'45': {'ad': 'Ali ', 'soyad': 'Yılmaz', 'telefon': '05264542364', 'dogum_tarihi': '14 Mayıs 1586'}, '987,': {'ad': 'Nur', 'soyad': 'Savaş', 'telefon': '05426416649', 'dogum_tarihi': '18 Haziran'}}\n"
     ]
    }
   ],
   "source": [
    "\n",
    "ogrenciler = {}\n",
    "\n",
    "ogrenci_sayisi = 3\n",
    "\n",
    "\n",
    "for i in range(ogrenci_sayisi):\n",
    "  \n",
    "    okul_no = input(\"Öğrenci okul numarasını girin: \")\n",
    "    ad = input(\"Öğrenci adını girin: \")\n",
    "    soyad = input(\"Öğrenci soyadını girin: \")\n",
    "    telefon = input(\"Öğrenci telefon numarasını girin: \")\n",
    "    dogum_tarihi = input(\"Öğrenci doğum tarihini girin: \")\n",
    "    \n",
    "    ogrenciler[okul_no] = { \"ad\": ad,  \"soyad\": soyad, \"telefon\": telefon, \"dogum_tarihi\": dogum_tarihi }\n",
    "\n",
    "\n",
    "print(ogrenciler)"
   ]
  },
  {
   "cell_type": "markdown",
   "metadata": {},
   "source": [
    "# Problem 2\n",
    "\n",
    "### a - Biraz ısınarak başlayalım!\n",
    "\n",
    "```\n",
    "numbers = [5,10,10,15,15,15,20,20,20,20]\n",
    "```\n",
    "\n",
    "Yukarıda `numbers` adında 10 elemanlı bir liste verilmiştir. Bu listenin her elemanını kontrol eden ve tekrar eden elemanları bir kez olacak şekilde başka bir listeye kopyalayan bir program yazınız. Son olarak oluşturduğunuz listeyi ekrana bastırınız.\n",
    "\n",
    "\n",
    "\n",
    "\n",
    "```\n",
    ">Output\n",
    "[5, 10, 15, 20]\n",
    "```\n"
   ]
  },
  {
   "cell_type": "code",
   "execution_count": 3,
   "metadata": {},
   "outputs": [
    {
     "name": "stdout",
     "output_type": "stream",
     "text": [
      "Verilen Liste:  [5, 10, 10, 15, 15, 15, 20, 20, 20, 20]\n",
      "Tekrar Edenler Çıkarılmış Liste:  [5, 10, 15, 20]\n"
     ]
    }
   ],
   "source": [
    "# verilen liste\n",
    "numbers = [5, 10, 10, 15, 15, 15, 20, 20, 20, 20]\n",
    "\n",
    "# tekrar eden elemanları bir kez olacak şekilde saklayacağımız boş bir liste\n",
    "unique_numbers = []\n",
    "\n",
    "# listenin elemanlarını kontrol et\n",
    "for number in numbers:\n",
    "    # eğer eleman daha önce unique_numbers listesine eklenmediyse, ekle\n",
    "    if number not in unique_numbers:\n",
    "        unique_numbers.append(number)\n",
    "\n",
    "# sonuçları yazdır\n",
    "print(\"Verilen Liste: \", numbers)\n",
    "print(\"Tekrar Edenler Çıkarılmış Liste: \", unique_numbers)"
   ]
  },
  {
   "cell_type": "markdown",
   "metadata": {},
   "source": [
    "### 🌶️ b) Hadi işi biraz daha zorlaştıralım! \n",
    "\n",
    "\n",
    "Şimdiyse senden `numbers` isimli listedeki tekrar eden elemanları `repeatNumbers` adındaki listeye; tekrar etmeyen elemanları `uniqueNumbers`adındaki listeye kopyalayan yazmanı ve listeleri ekrana bastırmanı bekliyoruz\n",
    "\n",
    "```\n",
    ">Output\n",
    "Tekrar Eden Elemanlar: [10, 10, 15, 15, 15, 20, 20, 20, 20]\n",
    "Tekrar Etmeyen Elemanlar: [5]\n",
    "```"
   ]
  },
  {
   "cell_type": "code",
   "execution_count": 2,
   "metadata": {},
   "outputs": [
    {
     "name": "stdout",
     "output_type": "stream",
     "text": [
      "Verilen Liste:  [5, 10, 10, 15, 15, 15, 20, 20, 20, 20]\n",
      "Tekrar Edenler:  [10, 15, 15, 20, 20, 20]\n",
      "Tekrar Edenler Çıkarılmış Liste:  [5, 10, 15, 20]\n"
     ]
    }
   ],
   "source": [
    "numbers = [5, 10, 10, 15, 15, 15, 20, 20, 20, 20]\n",
    "\n",
    "# tekrar eden elemanları bir kez olacak şekilde saklayacağımız boş bir liste\n",
    "unique_numbers = []\n",
    "\n",
    "# tekrar eden elemanları saklayacağımız boş bir liste\n",
    "repeat_numbers = []\n",
    "\n",
    "# listenin elemanlarını kontrol et\n",
    "for number in numbers:\n",
    "    # eğer eleman daha önce unique_numbers listesine eklenmediyse, ekle\n",
    "    if number not in unique_numbers:\n",
    "        unique_numbers.append(number)\n",
    "    # eğer eleman daha önce unique_numbers listesine eklenmişse, repeat_numbers listesine ekle\n",
    "    else:\n",
    "        repeat_numbers.append(number)\n",
    "\n",
    "# sonuçları yazdır\n",
    "print(\"Verilen Liste: \", numbers)\n",
    "print(\"Tekrar Edenler: \", repeat_numbers)\n",
    "print(\"Tekrar Edenler Çıkarılmış Liste: \", unique_numbers)"
   ]
  },
  {
   "cell_type": "markdown",
   "metadata": {},
   "source": [
    "# Problem 3\n",
    "sn1 = {1,2,3,4,5}\n",
    "\n",
    "sn2 = {4,5,6,7,8}\n",
    "\n",
    " Verilen 2 adet küme için kesişimlerini, farklarını ve birleşimlerini bulunuz. "
   ]
  },
  {
   "cell_type": "code",
   "execution_count": 4,
   "metadata": {},
   "outputs": [
    {
     "name": "stdout",
     "output_type": "stream",
     "text": [
      "Kesişim:  {4, 5}\n",
      "Fark (sn1 - sn2):  {1, 2, 3}\n",
      "Fark (sn2 - sn1):  {8, 6, 7}\n",
      "Birleşim:  {1, 2, 3, 4, 5, 6, 7, 8}\n"
     ]
    }
   ],
   "source": [
    "sn1 = {1,2,3,4,5}\n",
    "sn2 = {4,5,6,7,8}\n",
    "\n",
    "kesisim = sn1.intersection(sn2)\n",
    "fark1 = sn1.difference(sn2)\n",
    "fark2 = sn2.difference(sn1)\n",
    "birlesim = sn1.union(sn2)\n",
    "\n",
    "print(\"Kesişim: \", kesisim)\n",
    "print(\"Fark (sn1 - sn2): \", fark1)\n",
    "print(\"Fark (sn2 - sn1): \", fark2)\n",
    "print(\"Birleşim: \", birlesim)\n"
   ]
  },
  {
   "cell_type": "markdown",
   "metadata": {},
   "source": [
    "# Problem 4\n",
    "\n",
    "Buradaki işlemlerimizin tamamı stringler içindir. Aşağıda verilecek olan metodlar için kendinizin örnek yaratması gerekmektedir. \n",
    "\n",
    "Örneğin `upper` için `string` değişkeni oluştururken` k = \"BAC\"` şeklinde oluşturmayınız. Bunun yerine k değişkenini `k = \"bac`\" şeklinde oluşturmanız `upper` metodundaki değişimi görebilmeniz için daha iyi olacaktır.\n",
    "\n",
    "Bütün metodlardaki değişimin gözle görülür şekilde değişimi beklenmektedir.\n",
    "\n",
    "\n",
    "1- capitalize(), lower(), upper(), swapcase(), title(), replace()\n",
    "\n",
    "2- endswith(), startswith(), find(), index(), count()\n",
    "\n",
    "3- split(), strip(), join(), islower(), isalpha(), isdigit()\n",
    "\n",
    "\n",
    "Yukarıdaki `string` metodlarındaki değişimleri görebildiğimiz bir program yazınız.\n"
   ]
  },
  {
   "cell_type": "code",
   "execution_count": 5,
   "metadata": {},
   "outputs": [
    {
     "name": "stdout",
     "output_type": "stream",
     "text": [
      "capitalize methodu uygulandı:  Python programlama dilinin popülerliği her geçen gün artmakta ve hemen hemen her sektörde kullanılmaktadır.\n",
      "lower methodu uygulandı:  python programlama dilinin popülerliği her geçen gün artmakta ve hemen hemen her sektörde kullanılmaktadır.\n",
      "upper methodu uygulandı:  PYTHON PROGRAMLAMA DILININ POPÜLERLIĞI HER GEÇEN GÜN ARTMAKTA VE HEMEN HEMEN HER SEKTÖRDE KULLANILMAKTADIR.\n",
      "swapcase methodu uygulandı:  pYTHON PROGRAMLAMA DILININ POPÜLERLIĞI HER GEÇEN GÜN ARTMAKTA VE HEMEN HEMEN HER SEKTÖRDE KULLANILMAKTADIR.\n",
      "title methodu uygulandı:  Python Programlama Dilinin Popülerliği Her Geçen Gün Artmakta Ve Hemen Hemen Her Sektörde Kullanılmaktadır.\n",
      "replace methodu uygulandı:  Java programlama dilinin popülerliği her geçen gün artmakta ve hemen hemen her sektörde kullanılmaktadır.\n",
      "endswith methodu uygulandı:  True\n",
      "startswith methodu uygulandı:  True\n",
      "find methodu uygulandı:  0\n",
      "index methodu uygulandı:  19\n",
      "count methodu uygulandı:  2\n",
      "split methodu uygulandı:  ['Python', 'programlama', 'dilinin', 'popülerliği', 'her', 'geçen', 'gün', 'artmakta', 've', 'hemen', 'hemen', 'her', 'sektörde', 'kullanılmaktadır.']\n",
      "strip methodu uygulandı:  Python programlama dilinin popülerliği her geçen gün artmakta ve hemen hemen her sektörde kullanılmakta\n",
      "join methodu uygulandı:  Python-programlama-dilinin-popülerliği-her-geçen-gün-artmakta-ve-hemen-hemen-her-sektörde-kullanılmaktadır.\n",
      "islower methodu uygulandı:  False\n",
      "isalpha methodu uygulandı:  False\n",
      "isdigit methodu uygulandı:  False\n"
     ]
    }
   ],
   "source": [
    "text = \"Python programlama dilinin popülerliği her geçen gün artmakta ve hemen hemen her sektörde kullanılmaktadır.\"\n",
    "\n",
    "# capitalize\n",
    "print(\"capitalize methodu uygulandı: \", text.capitalize())\n",
    "\n",
    "# lower\n",
    "print(\"lower methodu uygulandı: \", text.lower())\n",
    "\n",
    "# upper\n",
    "print(\"upper methodu uygulandı: \", text.upper())\n",
    "\n",
    "# swapcase\n",
    "print(\"swapcase methodu uygulandı: \", text.swapcase())\n",
    "\n",
    "# title\n",
    "print(\"title methodu uygulandı: \", text.title())\n",
    "\n",
    "# replace\n",
    "print(\"replace methodu uygulandı: \", text.replace(\"Python\", \"Java\"))\n",
    "\n",
    "# endswith\n",
    "print(\"endswith methodu uygulandı: \", text.endswith(\"maktadır.\"))\n",
    "\n",
    "# startswith\n",
    "print(\"startswith methodu uygulandı: \", text.startswith(\"Python\"))\n",
    "\n",
    "# find\n",
    "print(\"find methodu uygulandı: \", text.find(\"Python\"))\n",
    "\n",
    "# index\n",
    "print(\"index methodu uygulandı: \", text.index(\"dil\"))\n",
    "\n",
    "# count\n",
    "print(\"count methodu uygulandı: \", text.count(\"her\"))\n",
    "\n",
    "# split\n",
    "print(\"split methodu uygulandı: \", text.split())\n",
    "\n",
    "# strip\n",
    "print(\"strip methodu uygulandı: \", text.strip(\"dır.\"))\n",
    "\n",
    "# join\n",
    "print(\"join methodu uygulandı: \", \"-\".join(text.split()))\n",
    "\n",
    "# islower\n",
    "print(\"islower methodu uygulandı: \", text.islower())\n",
    "\n",
    "# isalpha\n",
    "print(\"isalpha methodu uygulandı: \", text.isalpha())\n",
    "\n",
    "# isdigit\n",
    "print(\"isdigit methodu uygulandı: \", text.isdigit())\n"
   ]
  },
  {
   "cell_type": "code",
   "execution_count": null,
   "metadata": {},
   "outputs": [],
   "source": []
  }
 ],
 "metadata": {
  "kernelspec": {
   "display_name": "Python 3.10.5 64-bit",
   "language": "python",
   "name": "python3"
  },
  "language_info": {
   "codemirror_mode": {
    "name": "ipython",
    "version": 3
   },
   "file_extension": ".py",
   "mimetype": "text/x-python",
   "name": "python",
   "nbconvert_exporter": "python",
   "pygments_lexer": "ipython3",
   "version": "3.11.3"
  },
  "orig_nbformat": 4,
  "vscode": {
   "interpreter": {
    "hash": "5026d2d6e7aaaaba093def813beadff083d8733e4a511af01735cbabd156995d"
   }
  }
 },
 "nbformat": 4,
 "nbformat_minor": 2
}
